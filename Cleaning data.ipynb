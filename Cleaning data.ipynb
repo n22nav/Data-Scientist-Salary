{
 "cells": [
  {
   "cell_type": "code",
   "execution_count": 1,
   "metadata": {},
   "outputs": [],
   "source": [
    "import pandas as pd\n",
    "import numpy as np\n",
    "import re"
   ]
  },
  {
   "cell_type": "code",
   "execution_count": 2,
   "metadata": {},
   "outputs": [],
   "source": [
    "data = pd.read_csv(\"raw.csv\")"
   ]
  },
  {
   "cell_type": "code",
   "execution_count": 3,
   "metadata": {},
   "outputs": [
    {
     "data": {
      "text/plain": [
       "(956, 15)"
      ]
     },
     "execution_count": 3,
     "metadata": {},
     "output_type": "execute_result"
    }
   ],
   "source": [
    "data.shape"
   ]
  },
  {
   "cell_type": "code",
   "execution_count": 4,
   "metadata": {},
   "outputs": [
    {
     "name": "stdout",
     "output_type": "stream",
     "text": [
      "<class 'pandas.core.frame.DataFrame'>\n",
      "RangeIndex: 956 entries, 0 to 955\n",
      "Data columns (total 15 columns):\n",
      "Unnamed: 0           956 non-null int64\n",
      "Job Title            956 non-null object\n",
      "Salary Estimate      956 non-null object\n",
      "Job Description      956 non-null object\n",
      "Rating               956 non-null float64\n",
      "Company Name         956 non-null object\n",
      "Location             956 non-null object\n",
      "Headquarters         956 non-null object\n",
      "Size                 956 non-null object\n",
      "Founded              956 non-null int64\n",
      "Type of ownership    956 non-null object\n",
      "Industry             956 non-null object\n",
      "Sector               956 non-null object\n",
      "Revenue              956 non-null object\n",
      "Competitors          956 non-null object\n",
      "dtypes: float64(1), int64(2), object(12)\n",
      "memory usage: 112.2+ KB\n"
     ]
    }
   ],
   "source": [
    "data.info()"
   ]
  },
  {
   "cell_type": "code",
   "execution_count": 5,
   "metadata": {},
   "outputs": [
    {
     "data": {
      "text/html": [
       "<div>\n",
       "<style scoped>\n",
       "    .dataframe tbody tr th:only-of-type {\n",
       "        vertical-align: middle;\n",
       "    }\n",
       "\n",
       "    .dataframe tbody tr th {\n",
       "        vertical-align: top;\n",
       "    }\n",
       "\n",
       "    .dataframe thead th {\n",
       "        text-align: right;\n",
       "    }\n",
       "</style>\n",
       "<table border=\"1\" class=\"dataframe\">\n",
       "  <thead>\n",
       "    <tr style=\"text-align: right;\">\n",
       "      <th></th>\n",
       "      <th>Unnamed: 0</th>\n",
       "      <th>Job Title</th>\n",
       "      <th>Salary Estimate</th>\n",
       "      <th>Job Description</th>\n",
       "      <th>Rating</th>\n",
       "      <th>Company Name</th>\n",
       "      <th>Location</th>\n",
       "      <th>Headquarters</th>\n",
       "      <th>Size</th>\n",
       "      <th>Founded</th>\n",
       "      <th>Type of ownership</th>\n",
       "      <th>Industry</th>\n",
       "      <th>Sector</th>\n",
       "      <th>Revenue</th>\n",
       "      <th>Competitors</th>\n",
       "    </tr>\n",
       "  </thead>\n",
       "  <tbody>\n",
       "    <tr>\n",
       "      <th>0</th>\n",
       "      <td>0</td>\n",
       "      <td>Data Scientist</td>\n",
       "      <td>$53K-$91K (Glassdoor est.)</td>\n",
       "      <td>Data Scientist\\r\\nLocation: Albuquerque, NM\\r\\...</td>\n",
       "      <td>3.8</td>\n",
       "      <td>Tecolote Research\\r\\n3.8</td>\n",
       "      <td>Albuquerque, NM</td>\n",
       "      <td>Goleta, CA</td>\n",
       "      <td>501 to 1000 employees</td>\n",
       "      <td>1973</td>\n",
       "      <td>Company - Private</td>\n",
       "      <td>Aerospace &amp; Defense</td>\n",
       "      <td>Aerospace &amp; Defense</td>\n",
       "      <td>$50 to $100 million (USD)</td>\n",
       "      <td>-1</td>\n",
       "    </tr>\n",
       "    <tr>\n",
       "      <th>1</th>\n",
       "      <td>1</td>\n",
       "      <td>Healthcare Data Scientist</td>\n",
       "      <td>$63K-$112K (Glassdoor est.)</td>\n",
       "      <td>What You Will Do:\\r\\n\\r\\nI. General Summary\\r\\...</td>\n",
       "      <td>3.4</td>\n",
       "      <td>University of Maryland Medical System\\r\\n3.4</td>\n",
       "      <td>Linthicum, MD</td>\n",
       "      <td>Baltimore, MD</td>\n",
       "      <td>10000+ employees</td>\n",
       "      <td>1984</td>\n",
       "      <td>Other Organization</td>\n",
       "      <td>Health Care Services &amp; Hospitals</td>\n",
       "      <td>Health Care</td>\n",
       "      <td>$2 to $5 billion (USD)</td>\n",
       "      <td>-1</td>\n",
       "    </tr>\n",
       "    <tr>\n",
       "      <th>2</th>\n",
       "      <td>2</td>\n",
       "      <td>Data Scientist</td>\n",
       "      <td>$80K-$90K (Glassdoor est.)</td>\n",
       "      <td>KnowBe4, Inc. is a high growth information sec...</td>\n",
       "      <td>4.8</td>\n",
       "      <td>KnowBe4\\r\\n4.8</td>\n",
       "      <td>Clearwater, FL</td>\n",
       "      <td>Clearwater, FL</td>\n",
       "      <td>501 to 1000 employees</td>\n",
       "      <td>2010</td>\n",
       "      <td>Company - Private</td>\n",
       "      <td>Security Services</td>\n",
       "      <td>Business Services</td>\n",
       "      <td>$100 to $500 million (USD)</td>\n",
       "      <td>-1</td>\n",
       "    </tr>\n",
       "    <tr>\n",
       "      <th>3</th>\n",
       "      <td>3</td>\n",
       "      <td>Data Scientist</td>\n",
       "      <td>$56K-$97K (Glassdoor est.)</td>\n",
       "      <td>*Organization and Job ID**\\r\\nJob ID: 310709\\r...</td>\n",
       "      <td>3.8</td>\n",
       "      <td>PNNL\\r\\n3.8</td>\n",
       "      <td>Richland, WA</td>\n",
       "      <td>Richland, WA</td>\n",
       "      <td>1001 to 5000 employees</td>\n",
       "      <td>1965</td>\n",
       "      <td>Government</td>\n",
       "      <td>Energy</td>\n",
       "      <td>Oil, Gas, Energy &amp; Utilities</td>\n",
       "      <td>$500 million to $1 billion (USD)</td>\n",
       "      <td>Oak Ridge National Laboratory, National Renewa...</td>\n",
       "    </tr>\n",
       "    <tr>\n",
       "      <th>4</th>\n",
       "      <td>4</td>\n",
       "      <td>Data Scientist</td>\n",
       "      <td>$86K-$143K (Glassdoor est.)</td>\n",
       "      <td>Data Scientist\\r\\nAffinity Solutions / Marketi...</td>\n",
       "      <td>2.9</td>\n",
       "      <td>Affinity Solutions\\r\\n2.9</td>\n",
       "      <td>New York, NY</td>\n",
       "      <td>New York, NY</td>\n",
       "      <td>51 to 200 employees</td>\n",
       "      <td>1998</td>\n",
       "      <td>Company - Private</td>\n",
       "      <td>Advertising &amp; Marketing</td>\n",
       "      <td>Business Services</td>\n",
       "      <td>Unknown / Non-Applicable</td>\n",
       "      <td>Commerce Signals, Cardlytics, Yodlee</td>\n",
       "    </tr>\n",
       "  </tbody>\n",
       "</table>\n",
       "</div>"
      ],
      "text/plain": [
       "   Unnamed: 0                  Job Title              Salary Estimate  \\\n",
       "0           0             Data Scientist   $53K-$91K (Glassdoor est.)   \n",
       "1           1  Healthcare Data Scientist  $63K-$112K (Glassdoor est.)   \n",
       "2           2             Data Scientist   $80K-$90K (Glassdoor est.)   \n",
       "3           3             Data Scientist   $56K-$97K (Glassdoor est.)   \n",
       "4           4             Data Scientist  $86K-$143K (Glassdoor est.)   \n",
       "\n",
       "                                     Job Description  Rating  \\\n",
       "0  Data Scientist\\r\\nLocation: Albuquerque, NM\\r\\...     3.8   \n",
       "1  What You Will Do:\\r\\n\\r\\nI. General Summary\\r\\...     3.4   \n",
       "2  KnowBe4, Inc. is a high growth information sec...     4.8   \n",
       "3  *Organization and Job ID**\\r\\nJob ID: 310709\\r...     3.8   \n",
       "4  Data Scientist\\r\\nAffinity Solutions / Marketi...     2.9   \n",
       "\n",
       "                                   Company Name         Location  \\\n",
       "0                      Tecolote Research\\r\\n3.8  Albuquerque, NM   \n",
       "1  University of Maryland Medical System\\r\\n3.4    Linthicum, MD   \n",
       "2                                KnowBe4\\r\\n4.8   Clearwater, FL   \n",
       "3                                   PNNL\\r\\n3.8     Richland, WA   \n",
       "4                     Affinity Solutions\\r\\n2.9     New York, NY   \n",
       "\n",
       "     Headquarters                    Size  Founded   Type of ownership  \\\n",
       "0      Goleta, CA   501 to 1000 employees     1973   Company - Private   \n",
       "1   Baltimore, MD        10000+ employees     1984  Other Organization   \n",
       "2  Clearwater, FL   501 to 1000 employees     2010   Company - Private   \n",
       "3    Richland, WA  1001 to 5000 employees     1965          Government   \n",
       "4    New York, NY     51 to 200 employees     1998   Company - Private   \n",
       "\n",
       "                           Industry                        Sector  \\\n",
       "0               Aerospace & Defense           Aerospace & Defense   \n",
       "1  Health Care Services & Hospitals                   Health Care   \n",
       "2                 Security Services             Business Services   \n",
       "3                            Energy  Oil, Gas, Energy & Utilities   \n",
       "4           Advertising & Marketing             Business Services   \n",
       "\n",
       "                            Revenue  \\\n",
       "0         $50 to $100 million (USD)   \n",
       "1            $2 to $5 billion (USD)   \n",
       "2        $100 to $500 million (USD)   \n",
       "3  $500 million to $1 billion (USD)   \n",
       "4          Unknown / Non-Applicable   \n",
       "\n",
       "                                         Competitors  \n",
       "0                                                 -1  \n",
       "1                                                 -1  \n",
       "2                                                 -1  \n",
       "3  Oak Ridge National Laboratory, National Renewa...  \n",
       "4               Commerce Signals, Cardlytics, Yodlee  "
      ]
     },
     "execution_count": 5,
     "metadata": {},
     "output_type": "execute_result"
    }
   ],
   "source": [
    "data.head()"
   ]
  },
  {
   "cell_type": "code",
   "execution_count": 6,
   "metadata": {},
   "outputs": [],
   "source": [
    "#remove rows don't having salary estimate data\n",
    "data=data[data[\"Salary Estimate\"]!=\"-1\"]"
   ]
  },
  {
   "cell_type": "code",
   "execution_count": 7,
   "metadata": {},
   "outputs": [
    {
     "data": {
      "text/plain": [
       "(742, 15)"
      ]
     },
     "execution_count": 7,
     "metadata": {},
     "output_type": "execute_result"
    }
   ],
   "source": [
    "data.shape"
   ]
  },
  {
   "cell_type": "code",
   "execution_count": 8,
   "metadata": {},
   "outputs": [],
   "source": [
    "#salary parsing\n",
    "salary = data[\"Salary Estimate\"].apply(lambda x: re.findall(r'\\d+', x))\n",
    "\n",
    "#min-max salary\n",
    "min_salary = salary.apply(lambda x: int(x[0]))\n",
    "max_salary = salary.apply(lambda x: int(x[-1]))\n",
    "\n",
    "#basis of paying\n",
    "hourly = data[\"Salary Estimate\"].apply(lambda x: 1 if \"per hour\" in x.lower() else 0)\n",
    "employer_provided = data[\"Salary Estimate\"].apply(lambda x: 1 if \"employer provided\" in x.lower() else 0)\n",
    "\n",
    "#average salary\n",
    "avg_salary = np.average(np.array([min_salary,max_salary]), axis=0)\n",
    "\n",
    "\n",
    "#appending into dataframe\n",
    "data = data.join(pd.DataFrame(\n",
    "    {\n",
    "        'min_salary': min_salary,\n",
    "        'max_salary': max_salary,\n",
    "        'avg_salary': avg_salary,\n",
    "        'hourly': hourly,\n",
    "        'employer_provided': employer_provided \n",
    "    }, index=data.index\n",
    "))\n",
    "\n",
    "#hourly to annualy\n",
    "data.min_salary = data.apply(lambda x: x.min_salary*2 if x.hourly == 1 else x.min_salary, axis=1)\n",
    "data.max_salary = data.apply(lambda x: x.max_salary*2 if x.hourly == 1 else x.max_salary, axis=1)\n",
    "data.avg_salary = data.apply(lambda x: x.avg_salary*2 if x.hourly == 1 else x.avg_salary, axis=1)\n",
    "\n"
   ]
  },
  {
   "cell_type": "code",
   "execution_count": 9,
   "metadata": {},
   "outputs": [],
   "source": [
    "#state field\n",
    "job_state = data[\"Location\"].apply(lambda x: x.split(\",\")[1])\n",
    "same_state = data.apply(lambda x: 1 if x.Location == x.Headquarters else 0, axis = 1)\n",
    "\n",
    "\n",
    "#appending into dataframe\n",
    "data = data.join(pd.DataFrame(\n",
    "    {\n",
    "        'job_state': job_state,\n",
    "        'same_state': same_state\n",
    "    }, index=data.index\n",
    "))"
   ]
  },
  {
   "cell_type": "code",
   "execution_count": 10,
   "metadata": {},
   "outputs": [],
   "source": [
    "#age of company\n",
    "age=data[\"Founded\"].apply(lambda x: x if x ==-1 else (2020 - x))\n",
    "\n",
    "\n",
    "#appending into dataframe\n",
    "data['age'] = age"
   ]
  },
  {
   "cell_type": "code",
   "execution_count": 11,
   "metadata": {},
   "outputs": [],
   "source": [
    "#job description parsing\n",
    "\n",
    "#python\n",
    "python_l = data[\"Job Description\"].apply(lambda x: 1 if 'python' in x.lower() else 0)\n",
    "\n",
    "#r studio\n",
    "r_st = data[\"Job Description\"].apply(lambda x: 1 if 'r studio' in x.lower() or 'r-studio' in x.lower() else 0)\n",
    "\n",
    "#sas\n",
    "sas = data[\"Job Description\"].apply(lambda x: 1 if 'sas' in x.lower() else 0)\n",
    "\n",
    "#spark\n",
    "spark = data[\"Job Description\"].apply(lambda x: 1 if 'spark' in x.lower() else 0)\n",
    "\n",
    "#aws\n",
    "aws = data[\"Job Description\"].apply(lambda x: 1 if 'aws' in x.lower() else 0)\n",
    "\n",
    "#sql\n",
    "sql = data[\"Job Description\"].apply(lambda x: 1 if 'sql' in x.lower() else 0)\n",
    "\n",
    "#excel\n",
    "exc = data[\"Job Description\"].apply(lambda x: 1 if 'excel' in x.lower() else 0)\n",
    "\n",
    "#matlab\n",
    "mat = data[\"Job Description\"].apply(lambda x: 1 if 'matlab' in x.lower() else 0)\n",
    "\n",
    "#description length\n",
    "desc_len = data['Job Description'].apply(lambda x: len(x))\n",
    "\n",
    "\n",
    "#appending extracted data into dataframe\n",
    "data = data.join(pd.DataFrame(\n",
    "    {\n",
    "        'python' : python_l,\n",
    "        'r' : r_st,\n",
    "        'sas' : sas,\n",
    "        'spark' : spark,\n",
    "        'aws' : aws,\n",
    "        'sql' : sql,\n",
    "        'excel' : exc,\n",
    "        'matlab' : mat\n",
    "    }, index=data.index\n",
    "))"
   ]
  },
  {
   "cell_type": "code",
   "execution_count": 12,
   "metadata": {},
   "outputs": [],
   "source": [
    "data['desc_len'] = data['Job Description'].apply(lambda x: len(x))\n"
   ]
  },
  {
   "cell_type": "code",
   "execution_count": 14,
   "metadata": {},
   "outputs": [],
   "source": [
    "#job title designation\n",
    "\n",
    "#level-1 consist of junior, jr, jr.\n",
    "level1= np.array(data[\"Job Description\"].apply(lambda x: \"junior\" if \"junior\" in x.lower() or \"jr\" in x.lower() or \"jr.\" in x.lower() else \"other\"))\n",
    "\n",
    "#level-2 consist of senior, sr, sr., lead\n",
    "level2 = np.array(data[\"Job Description\"].apply(lambda x: \"senior\" if \"senior\" in x.lower() or \"sr\" in x.lower() or \"sr.\" in x.lower() or \"lead\" in x.lower() or \"manager\" in x.lower() else \"other\"))\n",
    "\n",
    "#level-3 consist of director, principal, vp\n",
    "level3 = np.array(data[\"Job Description\"].apply(lambda x: \"higher\" if \"director\" in x.lower() or \"principal\" in x.lower() or \"vp\" in x.lower() else \"other\"))\n",
    "\n",
    "\n",
    "\n",
    "level=[]\n",
    "for i in range(len(level3)):\n",
    "    if level3[i]==\"higher\":\n",
    "        level.append(\"higher\")\n",
    "    elif level2[i]==\"senior\":\n",
    "        level.append(\"senior\")\n",
    "    elif level1[i]==\"junior\":\n",
    "        level.append(\"junior\")\n",
    "    else:\n",
    "        level.append(\"other\")\n",
    "        \n",
    "\n",
    "#appending extracted level data into dataframe\n",
    "data[\"level\"] = level\n",
    "        "
   ]
  },
  {
   "cell_type": "code",
   "execution_count": 15,
   "metadata": {},
   "outputs": [
    {
     "data": {
      "text/plain": [
       "senior    442\n",
       "other     154\n",
       "higher    137\n",
       "junior      9\n",
       "Name: level, dtype: int64"
      ]
     },
     "execution_count": 15,
     "metadata": {},
     "output_type": "execute_result"
    }
   ],
   "source": [
    "data.level.value_counts()"
   ]
  },
  {
   "cell_type": "code",
   "execution_count": 16,
   "metadata": {},
   "outputs": [
    {
     "data": {
      "text/plain": [
       "DS       308\n",
       "other    183\n",
       "A        105\n",
       "DE        81\n",
       "mle       65\n",
       "Name: title, dtype: int64"
      ]
     },
     "execution_count": 16,
     "metadata": {},
     "output_type": "execute_result"
    }
   ],
   "source": [
    "# job title\n",
    "\n",
    "#separate column according to job title as data scientist, data engineer and data analyst\n",
    "title= data[\"Job Description\"].apply(lambda x: \"DS\" if \"data scientist\" in x.lower() else \"DE\" if \"data engineer\" in x.lower() else \"A\" if \"analyst\" in x.lower() else \"mle\" if \"machine learning\" in x.lower() else \"other\")\n",
    "\n",
    "\n",
    "#appending into dataframe\n",
    "data[\"title\"] = title\n",
    "\n",
    "data.title.value_counts()"
   ]
  },
  {
   "cell_type": "code",
   "execution_count": 17,
   "metadata": {},
   "outputs": [],
   "source": [
    "#number of competitors\n",
    "comp = data['Competitors'].apply(lambda x: len(x.split(',')) if x!=\"-1\" else 0)\n",
    "\n",
    "\n",
    "#appending\n",
    "data[\"comp\"] = comp"
   ]
  },
  {
   "cell_type": "code",
   "execution_count": 18,
   "metadata": {},
   "outputs": [],
   "source": [
    "#name of company\n",
    "name = data['Company Name'].apply(lambda x: x.split('\\r')[0])\n",
    "\n",
    "#appending\n",
    "data['name'] = name"
   ]
  },
  {
   "cell_type": "code",
   "execution_count": 19,
   "metadata": {},
   "outputs": [
    {
     "data": {
      "text/plain": [
       "CA    152\n",
       "MA    103\n",
       "NY     72\n",
       "VA     41\n",
       "IL     40\n",
       "MD     35\n",
       "PA     33\n",
       "TX     28\n",
       "NC     21\n",
       "WA     21\n",
       "NJ     17\n",
       "FL     16\n",
       "OH     14\n",
       "TN     13\n",
       "CO     11\n",
       "DC     11\n",
       "UT     10\n",
       "WI     10\n",
       "IN     10\n",
       "MO      9\n",
       "AZ      9\n",
       "AL      8\n",
       "MI      6\n",
       "DE      6\n",
       "KY      6\n",
       "GA      6\n",
       "IA      5\n",
       "CT      5\n",
       "LA      4\n",
       "NE      4\n",
       "OR      4\n",
       "KS      3\n",
       "NM      3\n",
       "ID      2\n",
       "MN      2\n",
       "RI      1\n",
       "SC      1\n",
       "Name: job_state, dtype: int64"
      ]
     },
     "execution_count": 19,
     "metadata": {},
     "output_type": "execute_result"
    }
   ],
   "source": [
    "# Fix state Los Angeles \n",
    "data['job_state']= data.job_state.apply(lambda x: x.strip() if x.strip().lower() != 'los angeles' else 'CA')\n",
    "data.job_state.value_counts()"
   ]
  },
  {
   "cell_type": "code",
   "execution_count": 20,
   "metadata": {},
   "outputs": [],
   "source": [
    "data.to_csv(\"cleaned_data.csv\", index = False)"
   ]
  }
 ],
 "metadata": {
  "kernelspec": {
   "display_name": "Python 3",
   "language": "python",
   "name": "python3"
  },
  "language_info": {
   "codemirror_mode": {
    "name": "ipython",
    "version": 3
   },
   "file_extension": ".py",
   "mimetype": "text/x-python",
   "name": "python",
   "nbconvert_exporter": "python",
   "pygments_lexer": "ipython3",
   "version": "3.6.10"
  }
 },
 "nbformat": 4,
 "nbformat_minor": 4
}
